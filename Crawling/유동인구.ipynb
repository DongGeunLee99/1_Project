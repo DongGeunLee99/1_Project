{
 "cells": [
  {
   "cell_type": "code",
   "execution_count": null,
   "metadata": {},
   "outputs": [],
   "source": [
    "!pip install pyproj"
   ]
  },
  {
   "cell_type": "code",
   "execution_count": 2,
   "metadata": {},
   "outputs": [],
   "source": [
    "import re\n",
    "import time\n",
    "import pandas as pd\n",
    "import requests as req\n",
    "from bs4 import BeautifulSoup as bs\n",
    "from selenium import webdriver as wb\n",
    "from IPython.display import display, HTML\n",
    "from selenium.webdriver.common.by import By\n",
    "from pyproj import Proj, transform, Transformer\n",
    "from selenium.webdriver.common.keys import Keys \n",
    "from selenium.webdriver.chrome.service import Service\n",
    "from webdriver_manager.chrome import ChromeDriverManager\n",
    "from selenium.webdriver.common.action_chains import ActionChains"
   ]
  },
  {
   "cell_type": "code",
   "execution_count": null,
   "metadata": {},
   "outputs": [],
   "source": [
    "url = \"https://m.nicebizmap.co.kr/analysis/analysisFree\""
   ]
  },
  {
   "cell_type": "code",
   "execution_count": 4,
   "metadata": {},
   "outputs": [],
   "source": [
    "s = Service(ChromeDriverManager().install())\n",
    "driver = wb.Chrome(service=s)\n",
    "driver.maximize_window()\n",
    "driver.get(url)"
   ]
  },
  {
   "cell_type": "code",
   "execution_count": 5,
   "metadata": {},
   "outputs": [],
   "source": [
    "button = driver.find_element(By.CSS_SELECTOR, \"div#pc_sheet01>div.overlay_scroll>div.pc_bdy>div.middle>ul>li>a\") # 검색\n",
    "button.click()"
   ]
  },
  {
   "cell_type": "code",
   "execution_count": 6,
   "metadata": {},
   "outputs": [],
   "source": [
    "button = driver.find_elements(By.CSS_SELECTOR, \"ul.loca_list.cb>li\") # 처음 화면에서 광주 검색\n",
    "for i in range(len(button)):\n",
    "    if button[i].text.find(\"광주광역시\") != -1:\n",
    "        button[i].click()\n",
    "        break"
   ]
  },
  {
   "cell_type": "code",
   "execution_count": 7,
   "metadata": {},
   "outputs": [],
   "source": [
    "button = driver.find_elements(By.CSS_SELECTOR, \"ul.loca_list.cb>li>a\") # 서구 검색\n",
    "for i in range(len(button)):\n",
    "    if button[i].text.find(\"서구\") != -1:\n",
    "        button[i].click()\n",
    "        break"
   ]
  },
  {
   "cell_type": "code",
   "execution_count": 8,
   "metadata": {},
   "outputs": [],
   "source": [
    "time.sleep(1)\n",
    "button = driver.find_elements(By.CSS_SELECTOR, \"ul.loca_list.cb>li>a\") # 동 선택\n",
    "for i in range(len(button)):\n",
    "    if button[i].text.find(\"광천동\") != -1:\n",
    "        button[i].click()\n",
    "        break"
   ]
  },
  {
   "cell_type": "code",
   "execution_count": 9,
   "metadata": {},
   "outputs": [],
   "source": [
    "button = driver.find_elements(By.CSS_SELECTOR, \"div.tab_box>ul.pd>li>a\") # 유동인구 탭으로 이동\n",
    "for i in range(len(button)):\n",
    "    if button[i].text.find(\"유동인구\") != -1:\n",
    "        button[i].click()\n",
    "        break"
   ]
  },
  {
   "cell_type": "code",
   "execution_count": 10,
   "metadata": {},
   "outputs": [],
   "source": [
    "time.sleep(60)\n",
    "button = driver.find_element(By.CSS_SELECTOR, \"a#handle03\") # 세부 항목 닫아서 많이 보이게 하기\n",
    "button.click()"
   ]
  },
  {
   "cell_type": "code",
   "execution_count": null,
   "metadata": {},
   "outputs": [],
   "source": []
  },
  {
   "cell_type": "code",
   "execution_count": 11,
   "metadata": {},
   "outputs": [],
   "source": [
    "pin = driver.find_elements(By.CSS_SELECTOR, \"div\") # 검색"
   ]
  },
  {
   "cell_type": "code",
   "execution_count": null,
   "metadata": {},
   "outputs": [],
   "source": [
    "alt_text = pin[300].find_element(By.CSS_SELECTOR, \"img\").get_attribute(\"alt\")\n",
    "match = re.search(r'(\\d+)등급', alt_text).group(1)\n",
    "match"
   ]
  },
  {
   "cell_type": "code",
   "execution_count": null,
   "metadata": {},
   "outputs": [],
   "source": []
  },
  {
   "cell_type": "code",
   "execution_count": null,
   "metadata": {},
   "outputs": [],
   "source": [
    "pin = driver.find_elements(By.CSS_SELECTOR, \"div\") # 검색\n",
    "\n",
    "pins = []\n",
    "num1 = None\n",
    "num2 = None\n",
    "\n",
    "for div in pin:\n",
    "    title_attr = div.get_attribute(\"title\")\n",
    "    style_attr = div.get_attribute(\"style\")\n",
    "\n",
    "    if title_attr is not None and style_attr:\n",
    "        if \"position: absolute\" in style_attr and \\\n",
    "            \"overflow: visible\" in style_attr and \\\n",
    "            \"box-sizing: content-box !important\" in style_attr and \\\n",
    "            \"cursor: inherit\" in style_attr:\n",
    "            \n",
    "            if not num1 and not num2 : # num1, 2 데이터가 없으면 => 기준 데이터 만들기\n",
    "                num1 = int(re.search(r'\\d+', div.get_attribute(\"style\").split(\";\")[4]).group())\n",
    "                num2 = int(re.search(r'\\d+', div.get_attribute(\"style\").split(\";\")[5]).group())\n",
    "\n",
    "            \n",
    "            if num1 and num2 : # 데이터가 있으면 => 기준 데이터랑 px 계산\n",
    "                div_lft = num1 - int(re.search(r'\\d+', div.get_attribute(\"style\").split(\";\")[4]).group())\n",
    "                div_top = num2 - int(re.search(r'\\d+', div.get_attribute(\"style\").split(\";\")[5]).group())\n",
    "            else:\n",
    "                print(\"예상하지 못한 변수... \")\n",
    "\n",
    "            alt_text = div.find_element(By.CSS_SELECTOR, \"img\").get_attribute(\"alt\")\n",
    "            match = re.search(r'(\\d+)등급', alt_text).group(1)\n",
    "\n",
    "            pins.append((div, div_lft, div_top, match)) ##### 여기서 left top 값도 가져오기\n",
    "\n",
    "print(f\"찾은 div 개수: {len(pins)}\")"
   ]
  },
  {
   "cell_type": "code",
   "execution_count": null,
   "metadata": {},
   "outputs": [],
   "source": [
    "print(pins[0][0].get_attribute(\"outerHTML\"))\n",
    "# print(pins[0])"
   ]
  },
  {
   "cell_type": "code",
   "execution_count": null,
   "metadata": {},
   "outputs": [],
   "source": [
    "legend = driver.find_elements(By.CSS_SELECTOR, \"span\") # 검색\n",
    "for i in range(len(legend)):\n",
    "    if legend[i].text.find(\"m\") != -1:\n",
    "        print(legend[i].text)\n",
    "        m = int(re.search(r'\\d+', legend[i].text).group())\n",
    "        px = legend[i].size['width']\n",
    "# meter_per_px = m / px  "
   ]
  },
  {
   "cell_type": "code",
   "execution_count": null,
   "metadata": {},
   "outputs": [],
   "source": [
    "# 기준 좌표 (0,0 픽셀 위치)\n",
    "origin_x = 306851.822\n",
    "origin_y = 3893055.319\n",
    "\n",
    "# 픽셀당 실제 거리 (m)\n",
    "meter_per_px = m / px  # 예: 50 / 100 = 0.5\n",
    "\n",
    "# UTM 좌표 변환을 위한 설정 (52N 지역)\n",
    "zone_number = 52\n",
    "northern = True  # 북반구 여부\n",
    "\n",
    "utm_proj = Proj(proj='utm', zone=zone_number, ellps='WGS84', south=not northern)\n",
    "wgs84_proj = Proj(proj='latlong', datum='WGS84')\n",
    "transformer = Transformer.from_proj(utm_proj, wgs84_proj, always_xy=True)\n",
    "\n",
    "# UTM 좌표 변환 및 저장\n",
    "utm_coords = []\n",
    "utm_coords_match = []\n",
    "\n",
    "for pin in pins:\n",
    "    dx, dy = pin[1], pin[2]\n",
    "    utm_x = origin_x + dx * meter_per_px  # X축 반전\n",
    "    utm_y = origin_y + dy * meter_per_px  # Y축 반전\n",
    "    lon, lat = transformer.transform(utm_x, utm_y)\n",
    "    utm_coords.append((lon, lat))\n",
    "    utm_coords_match.append((lon, lat, pin[3]))\n",
    "\n",
    "\n",
    "# DataFrame 생성 (위도, 경도만 저장)\n",
    "df = pd.DataFrame(utm_coords, columns=['경도', '위도'])\n",
    "df_ = pd.DataFrame(utm_coords_match, columns=['경도', '위도', '등급'])\n",
    "\n",
    "# CSV 저장\n",
    "df.to_csv(\"test.csv\", encoding='utf-8-sig', index=False, header=False)\n",
    "df_.to_csv(\"to_DB.csv\", encoding='utf-8-sig', index=False, header=False)\n",
    "\n",
    "# 결과 출력\n",
    "df\n"
   ]
  },
  {
   "cell_type": "code",
   "execution_count": 20,
   "metadata": {},
   "outputs": [],
   "source": [
    "# DataFrame 생성 (위도, 경도 순서로 저장)\n",
    "df = pd.DataFrame([(lat, lon) for lon, lat in utm_coords], columns=['위도', '경도'])\n",
    "\n",
    "# CSV 저장\n",
    "df.to_csv(\"test.csv\", encoding='utf-8-sig', index=False, header=False)\n"
   ]
  }
 ],
 "metadata": {
  "kernelspec": {
   "display_name": "base",
   "language": "python",
   "name": "python3"
  },
  "language_info": {
   "codemirror_mode": {
    "name": "ipython",
    "version": 3
   },
   "file_extension": ".py",
   "mimetype": "text/x-python",
   "name": "python",
   "nbconvert_exporter": "python",
   "pygments_lexer": "ipython3",
   "version": "3.12.7"
  }
 },
 "nbformat": 4,
 "nbformat_minor": 2
}
