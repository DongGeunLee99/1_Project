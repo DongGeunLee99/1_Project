{
    "cells": [
        {
            "cell_type": "code",
            "execution_count": 9,
            "metadata": {},
            "outputs": [],
            "source": [
                "import json\n",
                "import time\n",
                "import requests\n",
                "import pandas as pd\n",
                "from bs4 import BeautifulSoup as bs\n",
                "from selenium import webdriver as wb\n",
                "from selenium.webdriver.common.by import By\n",
                "from selenium.webdriver.common.keys import Keys \n",
                "from selenium.webdriver.chrome.service import Service\n",
                "from webdriver_manager.chrome import ChromeDriverManager"
            ]
        },
        {
            "cell_type": "code",
            "execution_count": null,
            "metadata": {},
            "outputs": [],
            "source": [
                "data = pd.read_csv('./분류별_업종.csv')"
            ]
        },
        {
            "cell_type": "code",
            "execution_count": null,
            "metadata": {},
            "outputs": [],
            "source": [
                "import pandas as pd\n",
                "\n",
                "# 각 동의 상가 매출 데이터를 읽어옴\n",
                "df_list = [\n",
                "    pd.read_csv('./data/02_배달/광천동_배달_매출.csv'),\n",
                "    pd.read_csv('./data/02_배달/금호1동_배달_매출.csv'),\n",
                "    pd.read_csv('./data/02_배달/금호2동_배달_매출.csv'),\n",
                "    pd.read_csv('./data/02_배달/농성1동_배달_매출.csv'),\n",
                "    pd.read_csv('./data/02_배달/농성2동_배달_매출.csv'),\n",
                "    pd.read_csv('./data/02_배달/동천동_배달_매출.csv'),\n",
                "    pd.read_csv('./data/02_배달/상무1동_배달_매출.csv'),\n",
                "    pd.read_csv('./data/02_배달/상무2동_배달_매출.csv'),\n",
                "    pd.read_csv('./data/02_배달/서창동_배달_매출.csv'),\n",
                "    pd.read_csv('./data/02_배달/양3동_배달_매출.csv'),\n",
                "    pd.read_csv('./data/02_배달/양동_배달_매출.csv'),\n",
                "    pd.read_csv('./data/02_배달/유덕동_배달_매출.csv'),\n",
                "    pd.read_csv('./data/02_배달/치평동_배달_매출.csv'),\n",
                "    pd.read_csv('./data/02_배달/풍암동_배달_매출.csv'),\n",
                "    pd.read_csv('./data/02_배달/화정1동_배달_매출.csv'),\n",
                "    pd.read_csv('./data/02_배달/화정2동_배달_매출.csv'),\n",
                "    pd.read_csv('./data/02_배달/화정3동_배달_매출.csv'),\n",
                "    pd.read_csv('./data/02_배달/화정4동_배달_매출.csv'),\n",
                "]\n",
                "\n",
                "# 하나의 데이터프레임으로 병합\n",
                "df_all = pd.concat(df_list, ignore_index=True)\n",
                "\n",
                "# 결과 확인\n",
                "print(df_all.shape)\n",
                "# df_all.tail()\n"
            ]
        },
        {
            "cell_type": "code",
            "execution_count": null,
            "metadata": {},
            "outputs": [],
            "source": [
                "# 1. 검색업종 컬럼에서 '>' 기준으로 분할\n",
                "def split_category(row):\n",
                "    parts = [p.strip() for p in row.split('>')]\n",
                "    # 길이 맞춰서 부족하면 빈 값으로 채우기\n",
                "    parts += [''] * (3 - len(parts))  # 대분류, 중분류, 소분류\n",
                "    return pd.Series(parts[:3], index=['대분류', '중분류', '소분류'])\n",
                "\n",
                "# 2. 데이터프레임에 분류 컬럼 추가\n",
                "df_split = df_all['검색업종'].apply(split_category)\n",
                "\n",
                "# 3. 중복 제거\n",
                "df_unique = df_split.drop_duplicates()\n",
                "\n",
                "# 결과 확인\n",
                "# df_unique.to_csv(\"./분류별_업종.csv\", encoding='utf-8-sig', index=False)\n",
                "print(df_unique['소분류'])\n"
            ]
        },
        {
            "cell_type": "code",
            "execution_count": 19,
            "metadata": {},
            "outputs": [],
            "source": [
                "category_df = pd.read_csv(\"./files/업종.csv\", encoding='utf-8-sig')\n",
                "lst = [\n",
                "    \"그 외 기타 간이 음식점\",\n",
                "    \"김밥/만두/분식\",\n",
                "    \"버거\",\n",
                "    \"빵/도넛\",\n",
                "    \"치킨\",\n",
                "    \"토스트/샌드위치/샐러드\",\n",
                "    \"카페\",\n",
                "    \"마라탕/훠궈\",\n",
                "    \"중국집\",\n",
                "    \"국/탕/찌개류\",\n",
                "    \"국수/칼국수\",\n",
                "    \"백반/한정식\",\n",
                "    \"전/부침개\",\n",
                "    \"해산물 구이/찜\",\n",
                "    \"피자\",\n",
                "    \"기타 동남아식 전문\",\n",
                "    \"베트남식 전문\",\n",
                "    \"기타 일식 음식점\",\n",
                "    \"일식 카레/돈가스/덮밥\",\n",
                "    \"일식 회/초밥\",\n",
                "    \"곱창 전골/구이\",\n",
                "    \"닭/오리고기 구이/찜\",\n",
                "    \"돼지고기 구이/찜\",\n",
                "    \"소고기 구이/찜\",\n",
                "    \"경양식\",\n",
                "    \"파스타/스테이크\",\n",
                "    \"패밀리레스토랑\"\n",
                "]"
            ]
        },
        {
            "cell_type": "code",
            "execution_count": 22,
            "metadata": {},
            "outputs": [],
            "source": [
                "filtered_df = category_df[category_df['업종이름'].isin(lst)]\n",
                "len(filtered_df)\n",
                "filtered_df.to_csv(\"배달업종.csv\", encoding='utf-8-sig', index=False)"
            ]
        }
    ],
    "metadata": {
        "kernelspec": {
            "display_name": "base",
            "language": "python",
            "name": "python3"
        },
        "language_info": {
            "codemirror_mode": {
                "name": "ipython",
                "version": 3
            },
            "file_extension": ".py",
            "mimetype": "text/x-python",
            "name": "python",
            "nbconvert_exporter": "python",
            "pygments_lexer": "ipython3",
            "version": "3.12.7"
        }
    },
    "nbformat": 4,
    "nbformat_minor": 4
}
