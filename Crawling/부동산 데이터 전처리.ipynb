{
    "cells": [
        {
            "cell_type": "code",
            "execution_count": 86,
            "metadata": {},
            "outputs": [],
            "source": [
                "import os\n",
                "import pandas as pd\n",
                "\n",
                "# 폴더 경로\n",
                "folder_path = 'C:/Users/smhrd/Desktop/부동산'\n",
                "\n",
                "# 폴더 내 모든 .csv 파일 경로 리스트 생성\n",
                "csv_files = [os.path.join(folder_path, file) for file in os.listdir(folder_path) if file.endswith('.csv')]\n",
                "\n",
                "# 모든 csv 파일을 읽어서 DataFrame 리스트 생성\n",
                "df_list = [pd.read_csv(file) for file in csv_files]\n",
                "\n",
                "# DataFrame 모두 합치기\n",
                "df_all = pd.concat(df_list, ignore_index=True)\n"
            ]
        },
        {
            "cell_type": "code",
            "execution_count": 87,
            "metadata": {},
            "outputs": [],
            "source": [
                "df_all = df_all.drop(columns=['현재업종', '준공인가일', '권리금', '매물특징', '입주가능일', '해당층/총층'], errors='ignore')"
            ]
        },
        {
            "cell_type": "code",
            "execution_count": 88,
            "metadata": {},
            "outputs": [],
            "source": [
                "df_all['소재지'] = df_all['소재지'].str.replace('광주시 서구 ', '', regex=False)"
            ]
        },
        {
            "cell_type": "code",
            "execution_count": null,
            "metadata": {},
            "outputs": [],
            "source": [
                "df_all[df_all['추천업종'] == \"-\"]\n",
                "df_all[df_all['추천업종'].isna()]"
            ]
        },
        {
            "cell_type": "code",
            "execution_count": 90,
            "metadata": {},
            "outputs": [],
            "source": [
                "df_all['추천업종'] = df_all['추천업종'].fillna('-')"
            ]
        },
        {
            "cell_type": "code",
            "execution_count": null,
            "metadata": {},
            "outputs": [],
            "source": [
                "df_all['소재지'].unique()"
            ]
        },
        {
            "cell_type": "code",
            "execution_count": 92,
            "metadata": {},
            "outputs": [],
            "source": [
                "df_all = df_all[df_all['소재지'] != '광주시 남구 월산동']"
            ]
        },
        {
            "cell_type": "code",
            "execution_count": null,
            "metadata": {},
            "outputs": [],
            "source": [
                "df_all['소재지'].unique()"
            ]
        },
        {
            "cell_type": "code",
            "execution_count": 94,
            "metadata": {},
            "outputs": [],
            "source": [
                "df_all['소재지'] = df_all['소재지'].replace({\n",
                "    '유촌동': '유덕동',  # ❌ → 이건 반대\n",
                "    '내방동': '화정동',  # ❌ → 이것도 반대\n",
                "    '마륵동': '서창동',  # ✅ ← 이것만 맞음\n",
                "    '매월동': '서창동'   # ✅\n",
                "})"
            ]
        },
        {
            "cell_type": "code",
            "execution_count": null,
            "metadata": {},
            "outputs": [],
            "source": [
                "sorted_unique_values = sorted(df_all['소재지'].unique())\n",
                "print(sorted_unique_values)"
            ]
        },
        {
            "cell_type": "code",
            "execution_count": null,
            "metadata": {},
            "outputs": [],
            "source": [
                "df_all[df_all['소재지']==\"쌍촌동\"]"
            ]
        },
        {
            "cell_type": "code",
            "execution_count": 99,
            "metadata": {},
            "outputs": [],
            "source": [
                "import numpy as np\n",
                "\n",
                "# 기준선: (위도, 경도) 순서로 두 점 정의 (예시값, 실제 경계에 맞게 수정 필요)\n",
                "lat1, lon1 = 35.150003489023504, 126.8559765815735  # 기준선의 첫 번째 점\n",
                "lat2, lon2 = 35.15224919419664,126.87131881713869  # 기준선의 두 번째 점\n",
                "\n",
                "# 기준선의 직선식 계산 (Ax + By + C = 0)\n",
                "A = lat2 - lat1\n",
                "B = lon1 - lon2\n",
                "C = lat1 * lon2 - lat2 * lon1\n",
                "\n",
                "# 직선 기준으로 점이 위쪽(>0)이면 상무1동, 아래쪽(<0)이면 상무2동\n",
                "def classify_sangmu(lat, lon):\n",
                "    result = A * lon + B * lat + C\n",
                "    return '상무1동' if result > 0 else '상무2동'\n",
                "\n",
                "# 쌍촌동 데이터에 적용\n",
                "mask = df_all['소재지'] == '쌍촌동'\n",
                "df_all.loc[mask, '소재지'] = df_all.loc[mask].apply(\n",
                "    lambda row: classify_sangmu(row['위도'], row['경도']), axis=1\n",
                ")\n"
            ]
        },
        {
            "cell_type": "code",
            "execution_count": null,
            "metadata": {},
            "outputs": [],
            "source": [
                "import json\n",
                "import folium\n",
                "\n",
                "# 1. JSON 파일 열기\n",
                "with open('C:/Users/smhrd/Desktop/seogu.geojson', 'r', encoding='utf-8') as f:\n",
                "    geo_data = json.load(f)\n",
                "\n",
                "# 4. folium 지도 생성\n",
                "m = folium.Map(\n",
                "    location=[35.1445, 126.9156],\n",
                "    tiles='cartodbpositron',\n",
                "    zoom_start=13,\n",
                "    zoom_control=True,          # 줌 버튼 비활성화\n",
                "    scrollWheelZoom=True,       # 마우스 휠 줌 비활성화\n",
                "    dragging=True               # 드래그 이동 비활성화\n",
                ")\n",
                "\n",
                "# 5. GeoJson 추가 (툴팁에 동 이름 표시)\n",
                "folium.GeoJson(\n",
                "    geo_data,\n",
                "    name='광주 서구 통합 동',\n",
                "    tooltip=folium.GeoJsonTooltip(fields=['adm_nm'], aliases=['행정동:'])\n",
                ").add_to(m)\n",
                "\n",
                "# ['광천동', '금호동', '농성동', '동천동', '상무1동', '상무2동', '서창동', '양동', '유덕동', '치평동', '풍암동', '화정동']\n",
                "sangmu1_data = df_all[df_all['소재지'] == '화정동']\n",
                "\n",
                "for _, row in sangmu1_data.iterrows():\n",
                "# for _, row in df_all.iterrows():\n",
                "    latitude = row['위도']\n",
                "    longitude = row['경도']\n",
                "    \n",
                "    # 마커 추가\n",
                "    folium.Marker(\n",
                "        location=[latitude, longitude],\n",
                "        popup=f\"{row['소재지']}\",  # 클릭 시 표시될 텍스트\n",
                "        icon=folium.Icon(color='blue')  # 마커 색상 (파란색)\n",
                "    ).add_to(m)\n",
                "\n",
                "# 7. LayerControl 추가 (GeoJson 레이어를 켜고 끌 수 있는 버튼)\n",
                "folium.LayerControl().add_to(m)\n",
                "\n",
                "# 8. 지도 출력\n",
                "m\n"
            ]
        },
        {
            "cell_type": "code",
            "execution_count": null,
            "metadata": {},
            "outputs": [],
            "source": [
                "# '(전용률'이 포함되지 않은 행 필터링\n",
                "# filtered_df = df_all[~df_all['계약/전용면적'].astype(str).str.contains('\\(전용률')]\n",
                "filtered_df = df_all[~df_all['계약/전용면적'].astype(str).str.contains(r'\\(전용률')]\n",
                "\n",
                "# 결과 출력 (원하는 컬럼만 보려면 예: ['계약/전용면적'])\n",
                "print(filtered_df['계약/전용면적'].unique())\n",
                "df_all['계약/전용면적'] = df_all['계약/전용면적'].fillna('-')\n",
                "df_all[df_all['계약/전용면적'] != '-']"
            ]
        },
        {
            "cell_type": "code",
            "execution_count": null,
            "metadata": {},
            "outputs": [],
            "source": [
                "import re\n",
                "df_all['계약/전용면적'] = df_all['계약/전용면적'].apply(\n",
                "    lambda x: re.sub(r'\\(.*?\\)', '', x).strip() if pd.notna(x) and x != '-' else x\n",
                ")\n",
                "df_all"
            ]
        },
        {
            "cell_type": "code",
            "execution_count": null,
            "metadata": {},
            "outputs": [],
            "source": [
                "df_all['월세'] = df_all['월세'].astype(str).str.replace(r'^월세', '', regex=True).str.strip()\n",
                "df_all"
            ]
        },
        {
            "cell_type": "code",
            "execution_count": 134,
            "metadata": {},
            "outputs": [],
            "source": [
                "df_all.to_json('부동산.json', orient='records', force_ascii=False, indent=2)"
            ]
        }
    ],
    "metadata": {
        "kernelspec": {
            "display_name": "base",
            "language": "python",
            "name": "python3"
        },
        "language_info": {
            "codemirror_mode": {
                "name": "ipython",
                "version": 3
            },
            "file_extension": ".py",
            "mimetype": "text/x-python",
            "name": "python",
            "nbconvert_exporter": "python",
            "pygments_lexer": "ipython3",
            "version": "3.12.7"
        }
    },
    "nbformat": 4,
    "nbformat_minor": 4
}
