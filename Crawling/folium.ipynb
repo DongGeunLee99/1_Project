{
    "cells": [
        {
            "cell_type": "code",
            "execution_count": null,
            "metadata": {},
            "outputs": [],
            "source": [
                "import json\n",
                "import folium\n",
                "\n",
                "# 1. JSON 파일 열기\n",
                "with open('C:/Users/smhrd/Desktop/광주광역시_서구.json', 'r', encoding='utf-8') as f:\n",
                "    geo_data = json.load(f)\n",
                "\n",
                "# 2. GeoJSON 구조 확인 및 포장\n",
                "if isinstance(geo_data, dict) and 'features' in geo_data:\n",
                "    geojson_data = geo_data  # 이미 포장되어 있는 경우\n",
                "else:\n",
                "    geojson_data = {\n",
                "        \"type\": \"FeatureCollection\",\n",
                "        \"features\": geo_data\n",
                "    }\n",
                "\n",
                "# 3. 지도 생성\n",
                "m = folium.Map(location=[35.1445, 126.9156], tiles='cartodbpositron', zoom_start=13)\n",
                "\n",
                "# 4. GeoJSON 레이어 추가\n",
                "folium.GeoJson(\n",
                "    geojson_data,\n",
                "    name='광주광역시 서구'\n",
                ").add_to(m)\n",
                "\n",
                "# 5. 레이어 컨트롤 추가\n",
                "folium.LayerControl().add_to(m)\n",
                "\n",
                "# 6. 결과 지도 출력\n",
                "m\n"
            ]
        },
        {
            "cell_type": "code",
            "execution_count": null,
            "metadata": {},
            "outputs": [],
            "source": [
                "import json\n",
                "import folium\n",
                "\n",
                "# 1. JSON 파일 열기\n",
                "with open('C:/Users/smhrd/Desktop/seogu.geojson', 'r', encoding='utf-8') as f:\n",
                "    geo_data = json.load(f)\n",
                "\n",
                "# 4. folium 지도 생성\n",
                "#  m = folium.Map(location=[35.1445, 126.9156], tiles='cartodbpositron', zoom_start=13)\n",
                "m = folium.Map(\n",
                "    location=[35.1445, 126.9156],\n",
                "    tiles='cartodbpositron',\n",
                "    zoom_start=13,\n",
                "    zoom_control=True,          # 줌 버튼 비활성화\n",
                "    scrollWheelZoom=True,       # 마우스 휠 줌 비활성화\n",
                "    dragging=True               # 드래그 이동 비활성화\n",
                ")\n",
                "# 5. GeoJson 추가 (툴팁에 동 이름 표시)\n",
                "folium.GeoJson(\n",
                "    geo_data,\n",
                "    name='광주 서구 통합 동',\n",
                "    tooltip=folium.GeoJsonTooltip(fields=['adm_nm'], aliases=['행정동:'])\n",
                ").add_to(m)\n",
                "\n",
                "folium.LayerControl().add_to(m)\n",
                "\n",
                "# 6. 지도 출력\n",
                "m\n",
                "\n"
            ]
        },
        {
            "cell_type": "code",
            "execution_count": null,
            "metadata": {},
            "outputs": [],
            "source": [
                "import json\n",
                "import folium\n",
                "\n",
                "# 1. JSON 파일 열기\n",
                "with open('C:/Users/smhrd/Desktop/광주광역시_서구.json', 'r', encoding='utf-8') as f:\n",
                "    geo_data = json.load(f)\n",
                "\n",
                "# 4. folium 지도 생성\n",
                "#  m = folium.Map(location=[35.1445, 126.9156], tiles='cartodbpositron', zoom_start=13)\n",
                "m = folium.Map(\n",
                "    location=[35.1445, 126.9156],\n",
                "    tiles='cartodbpositron',\n",
                "    zoom_start=13,\n",
                "    zoom_control=False,          # 줌 버튼 비활성화\n",
                "    scrollWheelZoom=True,       # 마우스 휠 줌 비활성화\n",
                "    dragging=True               # 드래그 이동 비활성화\n",
                ")\n",
                "# 5. GeoJson 추가 (툴팁에 동 이름 표시)\n",
                "folium.GeoJson(\n",
                "    geo_data,\n",
                "    name='광주 서구 통합 동',\n",
                "    # tooltip=folium.GeoJsonTooltip(fields=['adm_nm'], aliases=['행정동:'])\n",
                ").add_to(m)\n",
                "\n",
                "folium.LayerControl().add_to(m)\n",
                "\n",
                "# 6. 지도 출력\n",
                "m\n",
                "\n"
            ]
        },
        {
            "cell_type": "code",
            "execution_count": null,
            "metadata": {},
            "outputs": [],
            "source": [
                "with open('C:/Users/smhrd/Desktop/광주광역시_서구.json', 'r', encoding='utf-8') as f:\n",
                "    geo_data = json.load(f)\n",
                "print((geo_data[\"features\"][0]['geometry']['coordinates']))"
            ]
        },
        {
            "cell_type": "code",
            "execution_count": null,
            "metadata": {},
            "outputs": [],
            "source": [
                "for feature in geo_data['features']:\n",
                "    original_name = feature['properties']['adm_nm'].split()[-1]  # 마지막 단어가 실제 동 이름\n",
                "    print(original_name)"
            ]
        },
        {
            "cell_type": "code",
            "execution_count": 56,
            "metadata": {},
            "outputs": [],
            "source": [
                "case1 = next(f for f in geo_data[\"features\"] if f[\"properties\"][\"adm_nm\"] == \"광주광역시 서구 양동\")\n",
                "case2 = next(f for f in geo_data[\"features\"] if f[\"properties\"][\"adm_nm\"] == \"광주광역시 서구 양3동\")\n",
                "# dongchon['geometry']['coordinates'][0]\n",
                "# dongchon3['geometry']['coordinates'][0]"
            ]
        },
        {
            "cell_type": "code",
            "execution_count": null,
            "metadata": {},
            "outputs": [],
            "source": []
        },
        {
            "cell_type": "code",
            "execution_count": null,
            "metadata": {},
            "outputs": [],
            "source": [
                "case1 = next(f for f in geo_data[\"features\"] if f[\"properties\"][\"adm_nm\"] == \"광주광역시 서구 양동\")\n",
                "case2 = next(f for f in geo_data[\"features\"] if f[\"properties\"][\"adm_nm\"] == \"광주광역시 서구 양3동\")"
            ]
        },
        {
            "cell_type": "code",
            "execution_count": null,
            "metadata": {},
            "outputs": [],
            "source": [
                "print(len(case1['geometry']['coordinates'][0]))\n",
                "print(len(case2['geometry']['coordinates'][0]))"
            ]
        },
        {
            "cell_type": "code",
            "execution_count": null,
            "metadata": {},
            "outputs": [],
            "source": []
        },
        {
            "cell_type": "code",
            "execution_count": 57,
            "metadata": {},
            "outputs": [],
            "source": [
                "lst = []"
            ]
        },
        {
            "cell_type": "code",
            "execution_count": null,
            "metadata": {},
            "outputs": [],
            "source": [
                "for i in range(len(case1['geometry']['coordinates'][0])):\n",
                "    for j in range(len(case2['geometry']['coordinates'][0])):\n",
                "        if case1['geometry']['coordinates'][0][i] != case2['geometry']['coordinates'][0][j]:\n",
                "            lst.append()\n",
                "\n",
                "# len(dongchon3['geometry']['coordinates'][0])"
            ]
        },
        {
            "cell_type": "code",
            "execution_count": null,
            "metadata": {},
            "outputs": [],
            "source": [
                "# 두 지오메트리에서 좌표 추출\n",
                "coords1 = set(tuple(coord) for coord in case1['geometry']['coordinates'][0])\n",
                "coords2 = set(tuple(coord) for coord in case2['geometry']['coordinates'][0])\n",
                "\n",
                "# 서로 다른 좌표 추출 (대칭 차집합)\n",
                "unique_coords = coords1.symmetric_difference(coords2)\n",
                "\n",
                "# 리스트 형태로 변환\n",
                "unique_coords = list(unique_coords)\n",
                "print(unique_coords)\n"
            ]
        },
        {
            "cell_type": "code",
            "execution_count": null,
            "metadata": {},
            "outputs": [],
            "source": [
                "import json\n",
                "import folium\n",
                "\n",
                "# 1. JSON 파일 열기\n",
                "with open('C:/Users/smhrd/Desktop/seogu.geojson', 'r', encoding='utf-8') as f:\n",
                "    geo_data = json.load(f)\n",
                "\n",
                "# 좌표 추출\n",
                "case1 = geo_data['features'][0]\n",
                "case2 = geo_data['features'][1]\n",
                "\n",
                "coords1 = set(tuple(coord) for coord in case1['geometry']['coordinates'][0])\n",
                "coords2 = set(tuple(coord) for coord in case2['geometry']['coordinates'][0])\n",
                "unique_coords = list(coords1.symmetric_difference(coords2))  # 중복되지 않은 좌표만\n",
                "\n",
                "# folium 지도 생성\n",
                "m = folium.Map(\n",
                "    location=[35.1445, 126.9156],\n",
                "    tiles='cartodbpositron',\n",
                "    zoom_start=13,\n",
                "    zoom_control=False,\n",
                "    scrollWheelZoom=True,\n",
                "    dragging=True\n",
                ")\n",
                "\n",
                "# GeoJson 추가\n",
                "folium.GeoJson(\n",
                "    geo_data,\n",
                "    name='광주 서구 통합 동'\n",
                ").add_to(m)\n",
                "\n",
                "# unique 좌표 폴리라인 추가\n",
                "if len(unique_coords) > 1:\n",
                "    folium.PolyLine(unique_coords, color='red', weight=3, opacity=0.8, tooltip=\"중복되지 않은 경계선\").add_to(m)\n",
                "else:\n",
                "    for coord in unique_coords:\n",
                "        folium.CircleMarker(\n",
                "            location=[coord[1], coord[0]],  # [위도, 경도]\n",
                "            radius=5,\n",
                "            color='red',\n",
                "            fill=True,\n",
                "            fill_color='red',\n",
                "            fill_opacity=0.8,\n",
                "            tooltip=\"중복되지 않은 점\"\n",
                "        ).add_to(m)\n",
                "\n",
                "folium.LayerControl().add_to(m)\n",
                "\n",
                "m\n",
                "\n"
            ]
        },
        {
            "cell_type": "code",
            "execution_count": null,
            "metadata": {},
            "outputs": [],
            "source": [
                "import copy\n",
                "\n",
                "# 1. 좌표 추출 및 튜플로 변환 (set 사용을 위함)\n",
                "coords1 = set(tuple(round(c, 6) for c in coord) for coord in case1['geometry']['coordinates'][0])\n",
                "coords2 = set(tuple(round(c, 6) for c in coord) for coord in case2['geometry']['coordinates'][0])\n",
                "\n",
                "# 2. 중복되지 않는 좌표만 추출 (대칭 차집합)\n",
                "unique_coords = coords1.symmetric_difference(coords2)\n",
                "\n",
                "# 3. 좌표를 리스트 형태로 다시 변환\n",
                "unique_coords = [list(coord) for coord in unique_coords]\n",
                "\n",
                "# 4. case1 구조를 그대로 복사해서 case3 생성\n",
                "case3 = copy.deepcopy(case1)\n",
                "\n",
                "# 5. 좌표를 중복 제거된 것으로 대체\n",
                "case3['geometry']['coordinates'] = [unique_coords]\n",
                "\n",
                "# 6. 결과 확인\n",
                "print(case3)\n"
            ]
        },
        {
            "cell_type": "code",
            "execution_count": null,
            "metadata": {},
            "outputs": [],
            "source": [
                "coords1 = set(tuple(coord) for coord in case1['geometry']['coordinates'][0])\n",
                "coords2 = set(tuple(coord) for coord in case2['geometry']['coordinates'][0])\n",
                "case3 = list(coords1.symmetric_difference(coords2))\n",
                "\n",
                "print(\"case3 좌표 개수:\", len(case3))"
            ]
        },
        {
            "cell_type": "code",
            "execution_count": null,
            "metadata": {},
            "outputs": [],
            "source": [
                "len(case1['geometry']['coordinates'][0])\n",
                "# case2 좌표 개수\n",
                "len(case2['geometry']['coordinates'][0])\n",
                "print(\"case1 좌표 개수:\", len(case1['geometry']['coordinates'][0]))\n",
                "print(\"case2 좌표 개수:\", len(case2['geometry']['coordinates'][0]))"
            ]
        },
        {
            "cell_type": "code",
            "execution_count": null,
            "metadata": {},
            "outputs": [],
            "source": [
                "coords1 = set(tuple(coord) for coord in case1['geometry']['coordinates'][0])\n",
                "coords2 = set(tuple(coord) for coord in case2['geometry']['coordinates'][0])\n",
                "case3 = list(coords1.symmetric_difference(coords2))\n",
                "\n",
                "# 2. 정렬 (x 좌표 → y 좌표)\n",
                "case3_sorted = sorted(case3, key=lambda x: (x[0], x[1]))\n",
                "\n",
                "# 3. 결과 확인\n",
                "print(\"정렬된 case3 좌표:\")\n",
                "for coord in case3_sorted:\n",
                "    print(coord)"
            ]
        },
        {
            "cell_type": "code",
            "execution_count": null,
            "metadata": {},
            "outputs": [],
            "source": [
                "import json\n",
                "import folium\n",
                "from scipy.spatial import ConvexHull\n",
                "import numpy as np\n",
                "\n",
                "# JSON 파일 열기\n",
                "with open('C:/Users/smhrd/Desktop/광주광역시_서구.json', 'r', encoding='utf-8') as f:\n",
                "    geo_data = json.load(f)\n",
                "\n",
                "# case1, case2 추출\n",
                "case1 = geo_data['features'][0]\n",
                "case2 = geo_data['features'][1]\n",
                "\n",
                "# 중복되지 않은 좌표 (case3)\n",
                "coords1 = set(tuple(coord) for coord in case1['geometry']['coordinates'][0])\n",
                "coords2 = set(tuple(coord) for coord in case2['geometry']['coordinates'][0])\n",
                "case3 = list(coords1.symmetric_difference(coords2))\n",
                "\n",
                "# ConvexHull 적용\n",
                "points = np.array(case3)\n",
                "hull = ConvexHull(points)\n",
                "hull_points = points[hull.vertices]\n",
                "\n",
                "# 지도 생성\n",
                "m = folium.Map(\n",
                "    location=[np.mean(points[:, 1]), np.mean(points[:, 0])],\n",
                "    tiles='cartodbpositron',\n",
                "    zoom_start=15\n",
                ")\n",
                "\n",
                "# 외곽선을 폴리곤으로 그리기\n",
                "folium.Polygon(\n",
                "    locations=[[lat, lon] for lon, lat in hull_points],  # folium은 [위도, 경도] 순\n",
                "    color='blue',\n",
                "    weight=3,\n",
                "    fill=True,\n",
                "    fill_color='lightblue',\n",
                "    fill_opacity=0.5,\n",
                "    tooltip='중복되지 않은 외곽선'\n",
                ").add_to(m)\n",
                "\n",
                "# 결과 저장\n",
                "m\n"
            ]
        },
        {
            "cell_type": "code",
            "execution_count": null,
            "metadata": {},
            "outputs": [],
            "source": [
                "coords1 = set(tuple(coord) for coord in case1['geometry']['coordinates'][0])\n",
                "coords2 = set(tuple(coord) for coord in case2['geometry']['coordinates'][0])"
            ]
        }
    ],
    "metadata": {
        "kernelspec": {
            "display_name": "base",
            "language": "python",
            "name": "python3"
        },
        "language_info": {
            "codemirror_mode": {
                "name": "ipython",
                "version": 3
            },
            "file_extension": ".py",
            "mimetype": "text/x-python",
            "name": "python",
            "nbconvert_exporter": "python",
            "pygments_lexer": "ipython3",
            "version": "3.12.7"
        }
    },
    "nbformat": 4,
    "nbformat_minor": 4
}
